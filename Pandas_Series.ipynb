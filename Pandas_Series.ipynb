{
 "cells": [
  {
   "cell_type": "code",
   "execution_count": 12,
   "id": "bc48af50-e5a1-4b04-b6a0-e5f65dd4d8c7",
   "metadata": {},
   "outputs": [],
   "source": [
    "#Series"
   ]
  },
  {
   "cell_type": "code",
   "execution_count": 50,
   "id": "fa92e70d-e9c5-4042-9372-4f8b39ca52b3",
   "metadata": {},
   "outputs": [
    {
     "name": "stdout",
     "output_type": "stream",
     "text": [
      "a    3.0\n",
      "b    4.0\n",
      "c    5.0\n",
      "d    6.0\n",
      "Name: pyhton, dtype: float64\n",
      "<class 'pandas.core.series.Series'>\n"
     ]
    }
   ],
   "source": [
    "import pandas as pd\n",
    "x=[3,4,5,6]\n",
    "var = pd.Series(x,index=['a','b','c','d'],dtype=\"float\",name=\"pyhton\")\n",
    "print(var)\n",
    "print(type(var))\n"
   ]
  },
  {
   "cell_type": "code",
   "execution_count": 54,
   "id": "ff1b6a7d-436d-4f7c-8936-38587033ee6d",
   "metadata": {},
   "outputs": [
    {
     "name": "stdout",
     "output_type": "stream",
     "text": [
      "name    [python, c, c++, java]\n",
      "por           [12, 13, 14, 15]\n",
      "rank              [1, 4, 3, 2]\n",
      "dtype: object\n"
     ]
    }
   ],
   "source": [
    "dic = {\"name\":['python','c','c++','java'],\"por\":[12,13,14,15],\"rank\":[1,4,3,2]}\n",
    "var1 = pd.Series(dic)\n",
    "print(var1)"
   ]
  },
  {
   "cell_type": "code",
   "execution_count": 58,
   "id": "492135e2-7b68-4f0a-9cae-704a3ce36a27",
   "metadata": {},
   "outputs": [
    {
     "name": "stdout",
     "output_type": "stream",
     "text": [
      "1    12\n",
      "2    12\n",
      "3    12\n",
      "4    12\n",
      "5    12\n",
      "6    12\n",
      "7    12\n",
      "8    12\n",
      "dtype: int64\n",
      "<class 'pandas.core.series.Series'>\n"
     ]
    }
   ],
   "source": [
    "s = pd.Series(12,index=[1,2,3,4,5,6,7,8])\n",
    "print(s)\n",
    "print(type(s))"
   ]
  },
  {
   "cell_type": "code",
   "execution_count": 62,
   "id": "0d8c927f-de76-46fd-86c3-f77a45faddd3",
   "metadata": {},
   "outputs": [
    {
     "name": "stdout",
     "output_type": "stream",
     "text": [
      "1    24.0\n",
      "2    24.0\n",
      "3    24.0\n",
      "4    24.0\n",
      "5     NaN\n",
      "6     NaN\n",
      "7     NaN\n",
      "8     NaN\n",
      "dtype: float64\n"
     ]
    }
   ],
   "source": [
    "s1 = pd.Series(12,index=[1,2,3,4,5,6,7,8])\n",
    "s2 = pd.Series(12,index=[1,2,3,4])\n",
    "print(s1+s2)"
   ]
  },
  {
   "cell_type": "code",
   "execution_count": 64,
   "id": "b21f1597-515d-4dee-8dbd-0e9a6d75c4c6",
   "metadata": {},
   "outputs": [],
   "source": []
  },
  {
   "cell_type": "code",
   "execution_count": null,
   "id": "d38237c3-dca8-4ac2-a8d3-89b6276725a8",
   "metadata": {},
   "outputs": [],
   "source": []
  }
 ],
 "metadata": {
  "kernelspec": {
   "display_name": "Python 3 (ipykernel)",
   "language": "python",
   "name": "python3"
  },
  "language_info": {
   "codemirror_mode": {
    "name": "ipython",
    "version": 3
   },
   "file_extension": ".py",
   "mimetype": "text/x-python",
   "name": "python",
   "nbconvert_exporter": "python",
   "pygments_lexer": "ipython3",
   "version": "3.12.4"
  }
 },
 "nbformat": 4,
 "nbformat_minor": 5
}
