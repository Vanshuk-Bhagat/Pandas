{
 "cells": [
  {
   "cell_type": "code",
   "execution_count": 1,
   "id": "9ebfb55a-92ad-4316-8047-8b9bf3aaaecd",
   "metadata": {},
   "outputs": [],
   "source": [
    "#Write CSV file"
   ]
  },
  {
   "cell_type": "code",
   "execution_count": 19,
   "id": "ad53d607-af42-45b8-bd98-35d776eff276",
   "metadata": {},
   "outputs": [
    {
     "name": "stdout",
     "output_type": "stream",
     "text": [
      "      Name    Number\n",
      "0  Vanshuk  12335462\n",
      "1     Elio    237273\n",
      "2    Zuzka     29393\n",
      "3   Archie     49494\n"
     ]
    }
   ],
   "source": [
    "import pandas as pd\n",
    "dis ={\"Name\":[\"Vanshuk\",\"Elio\",\"Zuzka\",\"Archie\"],\"Number\":[12335462,237273,29393,49494]}\n",
    "d = pd.DataFrame(dis)\n",
    "print(d)\n",
    "\n",
    "d.to_csv(\"Test2.csv\")"
   ]
  },
  {
   "cell_type": "code",
   "execution_count": null,
   "id": "192f06be-a6e1-41a0-bb6b-f3eec63e08c6",
   "metadata": {},
   "outputs": [],
   "source": []
  }
 ],
 "metadata": {
  "kernelspec": {
   "display_name": "Python 3 (ipykernel)",
   "language": "python",
   "name": "python3"
  },
  "language_info": {
   "codemirror_mode": {
    "name": "ipython",
    "version": 3
   },
   "file_extension": ".py",
   "mimetype": "text/x-python",
   "name": "python",
   "nbconvert_exporter": "python",
   "pygments_lexer": "ipython3",
   "version": "3.12.4"
  }
 },
 "nbformat": 4,
 "nbformat_minor": 5
}
